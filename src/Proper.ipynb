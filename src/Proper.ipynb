{
 "cells": [
  {
   "cell_type": "markdown",
   "metadata": {},
   "source": [
    "# Load dataset"
   ]
  },
  {
   "cell_type": "code",
   "execution_count": 1,
   "metadata": {},
   "outputs": [],
   "source": [
    "import numpy as np\n",
    "import matplotlib.pyplot as plt\n",
    "import pandas as pd"
   ]
  },
  {
   "cell_type": "code",
   "execution_count": 2,
   "metadata": {},
   "outputs": [],
   "source": [
    "EnergySet = pd.read_csv(\"data/energydata_complete.csv\")\n",
    "energydf = pd.DataFrame(data=EnergySet)"
   ]
  },
  {
   "cell_type": "markdown",
   "metadata": {},
   "source": [
    "Quick look at what the dataset contains"
   ]
  },
  {
   "cell_type": "code",
   "execution_count": 3,
   "metadata": {
    "scrolled": true
   },
   "outputs": [
    {
     "name": "stdout",
     "output_type": "stream",
     "text": [
      "<class 'pandas.core.frame.DataFrame'>\n",
      "RangeIndex: 19735 entries, 0 to 19734\n",
      "Data columns (total 29 columns):\n",
      "date           19735 non-null object\n",
      "Appliances     19735 non-null int64\n",
      "lights         19735 non-null int64\n",
      "T1             19735 non-null float64\n",
      "RH_1           19735 non-null float64\n",
      "T2             19735 non-null float64\n",
      "RH_2           19735 non-null float64\n",
      "T3             19735 non-null float64\n",
      "RH_3           19735 non-null float64\n",
      "T4             19735 non-null float64\n",
      "RH_4           19735 non-null float64\n",
      "T5             19735 non-null float64\n",
      "RH_5           19735 non-null float64\n",
      "T6             19735 non-null float64\n",
      "RH_6           19735 non-null float64\n",
      "T7             19735 non-null float64\n",
      "RH_7           19735 non-null float64\n",
      "T8             19735 non-null float64\n",
      "RH_8           19735 non-null float64\n",
      "T9             19735 non-null float64\n",
      "RH_9           19735 non-null float64\n",
      "T_out          19735 non-null float64\n",
      "Press_mm_hg    19735 non-null float64\n",
      "RH_out         19735 non-null float64\n",
      "Windspeed      19735 non-null float64\n",
      "Visibility     19735 non-null float64\n",
      "Tdewpoint      19735 non-null float64\n",
      "rv1            19735 non-null float64\n",
      "rv2            19735 non-null float64\n",
      "dtypes: float64(26), int64(2), object(1)\n",
      "memory usage: 4.4+ MB\n"
     ]
    }
   ],
   "source": [
    "energydf.info()"
   ]
  },
  {
   "cell_type": "code",
   "execution_count": 5,
   "metadata": {},
   "outputs": [
    {
     "data": {
      "text/plain": [
       "Appliances     1.000000\n",
       "lights         0.197278\n",
       "RH_out         0.152282\n",
       "T2             0.120073\n",
       "T6             0.117638\n",
       "T_out          0.099155\n",
       "RH_8           0.094039\n",
       "Windspeed      0.087122\n",
       "RH_1           0.086031\n",
       "T3             0.085060\n",
       "RH_6           0.083178\n",
       "RH_2           0.060465\n",
       "RH_7           0.055642\n",
       "T1             0.055447\n",
       "RH_9           0.051462\n",
       "T4             0.040281\n",
       "T8             0.039572\n",
       "RH_3           0.036292\n",
       "Press_mm_hg    0.034885\n",
       "T7             0.025801\n",
       "T5             0.019760\n",
       "RH_4           0.016965\n",
       "Tdewpoint      0.015353\n",
       "rv1            0.011145\n",
       "rv2            0.011145\n",
       "T9             0.010010\n",
       "RH_5           0.006955\n",
       "Visibility     0.000230\n",
       "Name: Appliances, dtype: float64"
      ]
     },
     "execution_count": 5,
     "metadata": {},
     "output_type": "execute_result"
    }
   ],
   "source": [
    "energydf.corr()[\"Appliances\"].map(abs).sort_values(ascending=False)"
   ]
  },
  {
   "cell_type": "markdown",
   "metadata": {},
   "source": [
    "# Split training and test data sets"
   ]
  },
  {
   "cell_type": "code",
   "execution_count": 6,
   "metadata": {},
   "outputs": [],
   "source": [
    "from sklearn.model_selection import train_test_split\n",
    "\n",
    "energy_train, energy_test = train_test_split(energydf, test_size=0.2, random_state=42)"
   ]
  },
  {
   "cell_type": "markdown",
   "metadata": {},
   "source": [
    "# Preprocessing\n",
    "Cleaning the data and converting any data types"
   ]
  },
  {
   "cell_type": "code",
   "execution_count": 7,
   "metadata": {
    "scrolled": true
   },
   "outputs": [
    {
     "data": {
      "text/html": [
       "<div>\n",
       "<style scoped>\n",
       "    .dataframe tbody tr th:only-of-type {\n",
       "        vertical-align: middle;\n",
       "    }\n",
       "\n",
       "    .dataframe tbody tr th {\n",
       "        vertical-align: top;\n",
       "    }\n",
       "\n",
       "    .dataframe thead th {\n",
       "        text-align: right;\n",
       "    }\n",
       "</style>\n",
       "<table border=\"1\" class=\"dataframe\">\n",
       "  <thead>\n",
       "    <tr style=\"text-align: right;\">\n",
       "      <th></th>\n",
       "      <th>Appliances</th>\n",
       "      <th>lights</th>\n",
       "      <th>T1</th>\n",
       "      <th>RH_1</th>\n",
       "      <th>T2</th>\n",
       "      <th>RH_2</th>\n",
       "      <th>T3</th>\n",
       "      <th>RH_3</th>\n",
       "      <th>T4</th>\n",
       "      <th>RH_4</th>\n",
       "      <th>T5</th>\n",
       "      <th>RH_5</th>\n",
       "      <th>T6</th>\n",
       "      <th>RH_6</th>\n",
       "      <th>T7</th>\n",
       "      <th>RH_7</th>\n",
       "      <th>T8</th>\n",
       "      <th>RH_8</th>\n",
       "      <th>T9</th>\n",
       "      <th>RH_9</th>\n",
       "      <th>T_out</th>\n",
       "      <th>Press_mm_hg</th>\n",
       "      <th>RH_out</th>\n",
       "      <th>Windspeed</th>\n",
       "      <th>Visibility</th>\n",
       "      <th>Tdewpoint</th>\n",
       "      <th>rv1</th>\n",
       "      <th>rv2</th>\n",
       "    </tr>\n",
       "  </thead>\n",
       "  <tbody>\n",
       "    <tr>\n",
       "      <th>count</th>\n",
       "      <td>15788.000000</td>\n",
       "      <td>15788.000000</td>\n",
       "      <td>15788.000000</td>\n",
       "      <td>15788.000000</td>\n",
       "      <td>15788.000000</td>\n",
       "      <td>15788.000000</td>\n",
       "      <td>15788.000000</td>\n",
       "      <td>15788.000000</td>\n",
       "      <td>15788.000000</td>\n",
       "      <td>15788.000000</td>\n",
       "      <td>15788.000000</td>\n",
       "      <td>15788.000000</td>\n",
       "      <td>15788.000000</td>\n",
       "      <td>15788.000000</td>\n",
       "      <td>15788.000000</td>\n",
       "      <td>15788.000000</td>\n",
       "      <td>15788.000000</td>\n",
       "      <td>15788.000000</td>\n",
       "      <td>15788.000000</td>\n",
       "      <td>15788.000000</td>\n",
       "      <td>15788.000000</td>\n",
       "      <td>15788.000000</td>\n",
       "      <td>15788.000000</td>\n",
       "      <td>15788.000000</td>\n",
       "      <td>15788.000000</td>\n",
       "      <td>15788.000000</td>\n",
       "      <td>15788.000000</td>\n",
       "      <td>15788.000000</td>\n",
       "    </tr>\n",
       "    <tr>\n",
       "      <th>mean</th>\n",
       "      <td>97.949709</td>\n",
       "      <td>3.808589</td>\n",
       "      <td>21.688684</td>\n",
       "      <td>40.266486</td>\n",
       "      <td>20.345215</td>\n",
       "      <td>40.428811</td>\n",
       "      <td>22.269113</td>\n",
       "      <td>39.248114</td>\n",
       "      <td>20.854106</td>\n",
       "      <td>39.047357</td>\n",
       "      <td>19.598492</td>\n",
       "      <td>50.948632</td>\n",
       "      <td>7.913931</td>\n",
       "      <td>54.637155</td>\n",
       "      <td>20.266936</td>\n",
       "      <td>35.410537</td>\n",
       "      <td>22.029474</td>\n",
       "      <td>42.964343</td>\n",
       "      <td>19.488493</td>\n",
       "      <td>41.570982</td>\n",
       "      <td>7.418384</td>\n",
       "      <td>755.532075</td>\n",
       "      <td>79.822742</td>\n",
       "      <td>4.030780</td>\n",
       "      <td>38.330689</td>\n",
       "      <td>3.781387</td>\n",
       "      <td>25.027694</td>\n",
       "      <td>25.027694</td>\n",
       "    </tr>\n",
       "    <tr>\n",
       "      <th>std</th>\n",
       "      <td>103.136328</td>\n",
       "      <td>7.963182</td>\n",
       "      <td>1.609561</td>\n",
       "      <td>3.957219</td>\n",
       "      <td>2.196357</td>\n",
       "      <td>4.067871</td>\n",
       "      <td>2.007629</td>\n",
       "      <td>3.245545</td>\n",
       "      <td>2.051129</td>\n",
       "      <td>4.329110</td>\n",
       "      <td>1.850812</td>\n",
       "      <td>9.001768</td>\n",
       "      <td>6.102256</td>\n",
       "      <td>31.210844</td>\n",
       "      <td>2.116903</td>\n",
       "      <td>5.109426</td>\n",
       "      <td>1.959194</td>\n",
       "      <td>5.219066</td>\n",
       "      <td>2.021992</td>\n",
       "      <td>4.156227</td>\n",
       "      <td>5.327514</td>\n",
       "      <td>7.373040</td>\n",
       "      <td>14.895451</td>\n",
       "      <td>2.436011</td>\n",
       "      <td>11.815744</td>\n",
       "      <td>4.202189</td>\n",
       "      <td>14.504991</td>\n",
       "      <td>14.504991</td>\n",
       "    </tr>\n",
       "    <tr>\n",
       "      <th>min</th>\n",
       "      <td>10.000000</td>\n",
       "      <td>0.000000</td>\n",
       "      <td>16.790000</td>\n",
       "      <td>27.023333</td>\n",
       "      <td>16.100000</td>\n",
       "      <td>20.463333</td>\n",
       "      <td>17.200000</td>\n",
       "      <td>28.766667</td>\n",
       "      <td>15.100000</td>\n",
       "      <td>27.660000</td>\n",
       "      <td>15.330000</td>\n",
       "      <td>30.166667</td>\n",
       "      <td>-6.030000</td>\n",
       "      <td>1.000000</td>\n",
       "      <td>15.390000</td>\n",
       "      <td>23.230000</td>\n",
       "      <td>16.306667</td>\n",
       "      <td>29.600000</td>\n",
       "      <td>14.890000</td>\n",
       "      <td>29.166667</td>\n",
       "      <td>-5.000000</td>\n",
       "      <td>729.300000</td>\n",
       "      <td>24.000000</td>\n",
       "      <td>0.000000</td>\n",
       "      <td>1.000000</td>\n",
       "      <td>-6.600000</td>\n",
       "      <td>0.006033</td>\n",
       "      <td>0.006033</td>\n",
       "    </tr>\n",
       "    <tr>\n",
       "      <th>25%</th>\n",
       "      <td>50.000000</td>\n",
       "      <td>0.000000</td>\n",
       "      <td>20.775937</td>\n",
       "      <td>37.399167</td>\n",
       "      <td>18.823333</td>\n",
       "      <td>37.900000</td>\n",
       "      <td>20.790000</td>\n",
       "      <td>36.900000</td>\n",
       "      <td>19.533333</td>\n",
       "      <td>35.590000</td>\n",
       "      <td>18.290000</td>\n",
       "      <td>45.433333</td>\n",
       "      <td>3.595000</td>\n",
       "      <td>29.991500</td>\n",
       "      <td>18.700000</td>\n",
       "      <td>31.500000</td>\n",
       "      <td>20.790000</td>\n",
       "      <td>39.090000</td>\n",
       "      <td>18.000000</td>\n",
       "      <td>38.530000</td>\n",
       "      <td>3.633333</td>\n",
       "      <td>750.916667</td>\n",
       "      <td>70.333333</td>\n",
       "      <td>2.000000</td>\n",
       "      <td>29.000000</td>\n",
       "      <td>0.933333</td>\n",
       "      <td>12.510037</td>\n",
       "      <td>12.510037</td>\n",
       "    </tr>\n",
       "    <tr>\n",
       "      <th>50%</th>\n",
       "      <td>60.000000</td>\n",
       "      <td>0.000000</td>\n",
       "      <td>21.600000</td>\n",
       "      <td>39.663333</td>\n",
       "      <td>20.000000</td>\n",
       "      <td>40.500000</td>\n",
       "      <td>22.100000</td>\n",
       "      <td>38.560000</td>\n",
       "      <td>20.633333</td>\n",
       "      <td>38.463333</td>\n",
       "      <td>19.390000</td>\n",
       "      <td>49.078222</td>\n",
       "      <td>7.300000</td>\n",
       "      <td>55.296667</td>\n",
       "      <td>20.060000</td>\n",
       "      <td>34.900000</td>\n",
       "      <td>22.100000</td>\n",
       "      <td>42.427857</td>\n",
       "      <td>19.390000</td>\n",
       "      <td>40.933333</td>\n",
       "      <td>6.933333</td>\n",
       "      <td>756.100000</td>\n",
       "      <td>84.000000</td>\n",
       "      <td>3.666667</td>\n",
       "      <td>40.000000</td>\n",
       "      <td>3.433333</td>\n",
       "      <td>24.912220</td>\n",
       "      <td>24.912220</td>\n",
       "    </tr>\n",
       "    <tr>\n",
       "      <th>75%</th>\n",
       "      <td>100.000000</td>\n",
       "      <td>0.000000</td>\n",
       "      <td>22.600000</td>\n",
       "      <td>43.060000</td>\n",
       "      <td>21.500000</td>\n",
       "      <td>43.290000</td>\n",
       "      <td>23.290000</td>\n",
       "      <td>41.760000</td>\n",
       "      <td>22.100000</td>\n",
       "      <td>42.193333</td>\n",
       "      <td>20.632083</td>\n",
       "      <td>53.702500</td>\n",
       "      <td>11.263333</td>\n",
       "      <td>83.300833</td>\n",
       "      <td>21.600000</td>\n",
       "      <td>39.016500</td>\n",
       "      <td>23.390000</td>\n",
       "      <td>46.561667</td>\n",
       "      <td>20.600000</td>\n",
       "      <td>44.363333</td>\n",
       "      <td>10.416667</td>\n",
       "      <td>760.937500</td>\n",
       "      <td>91.666667</td>\n",
       "      <td>5.500000</td>\n",
       "      <td>40.000000</td>\n",
       "      <td>6.600000</td>\n",
       "      <td>37.665543</td>\n",
       "      <td>37.665543</td>\n",
       "    </tr>\n",
       "    <tr>\n",
       "      <th>max</th>\n",
       "      <td>1080.000000</td>\n",
       "      <td>70.000000</td>\n",
       "      <td>26.260000</td>\n",
       "      <td>57.423333</td>\n",
       "      <td>29.856667</td>\n",
       "      <td>54.766667</td>\n",
       "      <td>29.236000</td>\n",
       "      <td>50.163333</td>\n",
       "      <td>26.200000</td>\n",
       "      <td>51.090000</td>\n",
       "      <td>25.795000</td>\n",
       "      <td>96.321667</td>\n",
       "      <td>28.290000</td>\n",
       "      <td>99.900000</td>\n",
       "      <td>25.963333</td>\n",
       "      <td>51.327778</td>\n",
       "      <td>27.230000</td>\n",
       "      <td>58.780000</td>\n",
       "      <td>24.500000</td>\n",
       "      <td>53.326667</td>\n",
       "      <td>26.100000</td>\n",
       "      <td>772.300000</td>\n",
       "      <td>100.000000</td>\n",
       "      <td>14.000000</td>\n",
       "      <td>66.000000</td>\n",
       "      <td>15.400000</td>\n",
       "      <td>49.996530</td>\n",
       "      <td>49.996530</td>\n",
       "    </tr>\n",
       "  </tbody>\n",
       "</table>\n",
       "</div>"
      ],
      "text/plain": [
       "         Appliances        lights            T1          RH_1            T2  \\\n",
       "count  15788.000000  15788.000000  15788.000000  15788.000000  15788.000000   \n",
       "mean      97.949709      3.808589     21.688684     40.266486     20.345215   \n",
       "std      103.136328      7.963182      1.609561      3.957219      2.196357   \n",
       "min       10.000000      0.000000     16.790000     27.023333     16.100000   \n",
       "25%       50.000000      0.000000     20.775937     37.399167     18.823333   \n",
       "50%       60.000000      0.000000     21.600000     39.663333     20.000000   \n",
       "75%      100.000000      0.000000     22.600000     43.060000     21.500000   \n",
       "max     1080.000000     70.000000     26.260000     57.423333     29.856667   \n",
       "\n",
       "               RH_2            T3          RH_3            T4          RH_4  \\\n",
       "count  15788.000000  15788.000000  15788.000000  15788.000000  15788.000000   \n",
       "mean      40.428811     22.269113     39.248114     20.854106     39.047357   \n",
       "std        4.067871      2.007629      3.245545      2.051129      4.329110   \n",
       "min       20.463333     17.200000     28.766667     15.100000     27.660000   \n",
       "25%       37.900000     20.790000     36.900000     19.533333     35.590000   \n",
       "50%       40.500000     22.100000     38.560000     20.633333     38.463333   \n",
       "75%       43.290000     23.290000     41.760000     22.100000     42.193333   \n",
       "max       54.766667     29.236000     50.163333     26.200000     51.090000   \n",
       "\n",
       "                 T5          RH_5            T6          RH_6            T7  \\\n",
       "count  15788.000000  15788.000000  15788.000000  15788.000000  15788.000000   \n",
       "mean      19.598492     50.948632      7.913931     54.637155     20.266936   \n",
       "std        1.850812      9.001768      6.102256     31.210844      2.116903   \n",
       "min       15.330000     30.166667     -6.030000      1.000000     15.390000   \n",
       "25%       18.290000     45.433333      3.595000     29.991500     18.700000   \n",
       "50%       19.390000     49.078222      7.300000     55.296667     20.060000   \n",
       "75%       20.632083     53.702500     11.263333     83.300833     21.600000   \n",
       "max       25.795000     96.321667     28.290000     99.900000     25.963333   \n",
       "\n",
       "               RH_7            T8          RH_8            T9          RH_9  \\\n",
       "count  15788.000000  15788.000000  15788.000000  15788.000000  15788.000000   \n",
       "mean      35.410537     22.029474     42.964343     19.488493     41.570982   \n",
       "std        5.109426      1.959194      5.219066      2.021992      4.156227   \n",
       "min       23.230000     16.306667     29.600000     14.890000     29.166667   \n",
       "25%       31.500000     20.790000     39.090000     18.000000     38.530000   \n",
       "50%       34.900000     22.100000     42.427857     19.390000     40.933333   \n",
       "75%       39.016500     23.390000     46.561667     20.600000     44.363333   \n",
       "max       51.327778     27.230000     58.780000     24.500000     53.326667   \n",
       "\n",
       "              T_out   Press_mm_hg        RH_out     Windspeed    Visibility  \\\n",
       "count  15788.000000  15788.000000  15788.000000  15788.000000  15788.000000   \n",
       "mean       7.418384    755.532075     79.822742      4.030780     38.330689   \n",
       "std        5.327514      7.373040     14.895451      2.436011     11.815744   \n",
       "min       -5.000000    729.300000     24.000000      0.000000      1.000000   \n",
       "25%        3.633333    750.916667     70.333333      2.000000     29.000000   \n",
       "50%        6.933333    756.100000     84.000000      3.666667     40.000000   \n",
       "75%       10.416667    760.937500     91.666667      5.500000     40.000000   \n",
       "max       26.100000    772.300000    100.000000     14.000000     66.000000   \n",
       "\n",
       "          Tdewpoint           rv1           rv2  \n",
       "count  15788.000000  15788.000000  15788.000000  \n",
       "mean       3.781387     25.027694     25.027694  \n",
       "std        4.202189     14.504991     14.504991  \n",
       "min       -6.600000      0.006033      0.006033  \n",
       "25%        0.933333     12.510037     12.510037  \n",
       "50%        3.433333     24.912220     24.912220  \n",
       "75%        6.600000     37.665543     37.665543  \n",
       "max       15.400000     49.996530     49.996530  "
      ]
     },
     "execution_count": 7,
     "metadata": {},
     "output_type": "execute_result"
    }
   ],
   "source": [
    "# See if there are incorrect values from mix/max\n",
    "# eg, negative humidity\n",
    "pd.set_option(\"display.max_columns\", 30)\n",
    "energy_train.describe()"
   ]
  },
  {
   "cell_type": "code",
   "execution_count": 11,
   "metadata": {},
   "outputs": [
    {
     "data": {
      "text/plain": [
       "2133     2016-01-26 12:30:00\n",
       "19730    2016-05-27 17:20:00\n",
       "3288     2016-02-03 13:00:00\n",
       "7730     2016-03-05 09:20:00\n",
       "8852     2016-03-13 04:20:00\n",
       "425      2016-01-14 15:50:00\n",
       "10277    2016-03-23 01:50:00\n",
       "15028    2016-04-25 01:40:00\n",
       "16841    2016-05-07 15:50:00\n",
       "1890     2016-01-24 20:00:00\n",
       "14374    2016-04-20 12:40:00\n",
       "8530     2016-03-10 22:40:00\n",
       "1282     2016-01-20 14:40:00\n",
       "18697    2016-05-20 13:10:00\n",
       "13478    2016-04-14 07:20:00\n",
       "8542     2016-03-11 00:40:00\n",
       "14547    2016-04-21 17:30:00\n",
       "10205    2016-03-22 13:50:00\n",
       "2714     2016-01-30 13:20:00\n",
       "13326    2016-04-13 06:00:00\n",
       "14957    2016-04-24 13:50:00\n",
       "18874    2016-05-21 18:40:00\n",
       "17068    2016-05-09 05:40:00\n",
       "14736    2016-04-23 01:00:00\n",
       "15952    2016-05-01 11:40:00\n",
       "2760     2016-01-30 21:00:00\n",
       "18380    2016-05-18 08:20:00\n",
       "8299     2016-03-09 08:10:00\n",
       "7834     2016-03-06 02:40:00\n",
       "16007    2016-05-01 20:50:00\n",
       "                ...         \n",
       "17912    2016-05-15 02:20:00\n",
       "1267     2016-01-20 12:10:00\n",
       "1899     2016-01-24 21:30:00\n",
       "3005     2016-02-01 13:50:00\n",
       "19118    2016-05-23 11:20:00\n",
       "189      2016-01-13 00:30:00\n",
       "2747     2016-01-30 18:50:00\n",
       "18431    2016-05-18 16:50:00\n",
       "18942    2016-05-22 06:00:00\n",
       "8666     2016-03-11 21:20:00\n",
       "6396     2016-02-25 03:00:00\n",
       "17568    2016-05-12 17:00:00\n",
       "6420     2016-02-25 07:00:00\n",
       "5051     2016-02-15 18:50:00\n",
       "5311     2016-02-17 14:10:00\n",
       "2433     2016-01-28 14:30:00\n",
       "769      2016-01-17 01:10:00\n",
       "1685     2016-01-23 09:50:00\n",
       "8322     2016-03-09 12:00:00\n",
       "16023    2016-05-01 23:30:00\n",
       "11363    2016-03-30 14:50:00\n",
       "14423    2016-04-20 20:50:00\n",
       "4426     2016-02-11 10:40:00\n",
       "16850    2016-05-07 17:20:00\n",
       "6265     2016-02-24 05:10:00\n",
       "11284    2016-03-30 01:40:00\n",
       "11964    2016-04-03 19:00:00\n",
       "5390     2016-02-18 03:20:00\n",
       "860      2016-01-17 16:20:00\n",
       "15795    2016-04-30 09:30:00\n",
       "Name: date, Length: 15788, dtype: object"
      ]
     },
     "execution_count": 11,
     "metadata": {},
     "output_type": "execute_result"
    }
   ],
   "source": [
    "energy_train[\"date\"]"
   ]
  },
  {
   "cell_type": "code",
   "execution_count": null,
   "metadata": {},
   "outputs": [],
   "source": []
  },
  {
   "cell_type": "markdown",
   "metadata": {},
   "source": [
    "## Clean data\n",
    "Clean data for invalid values like negative humidity or unrealistic temperatures"
   ]
  },
  {
   "cell_type": "code",
   "execution_count": null,
   "metadata": {},
   "outputs": [],
   "source": [
    "def clean_data(min_value, max_value, columns, data):\n",
    "    clean_data = data.copy()\n",
    "    for col in columns:\n",
    "        # Only keep rows where column date is within the min and max values\n",
    "        clean_data = clean_data[ (clean_data[col] <= max_value)\n",
    "                               & (clean_data[col] >= min_value)]\n",
    "    return clean_data"
   ]
  },
  {
   "cell_type": "markdown",
   "metadata": {},
   "source": [
    "Example of using the `clean_data` method, where we want the column `T1` to have values between 20 and 50"
   ]
  },
  {
   "cell_type": "code",
   "execution_count": null,
   "metadata": {},
   "outputs": [],
   "source": [
    "clean_data(20,50,[\"T1\"],energy_train)"
   ]
  },
  {
   "cell_type": "code",
   "execution_count": null,
   "metadata": {},
   "outputs": [],
   "source": []
  },
  {
   "cell_type": "markdown",
   "metadata": {},
   "source": [
    "### Turn cleaning step into pipeline step"
   ]
  },
  {
   "cell_type": "code",
   "execution_count": null,
   "metadata": {},
   "outputs": [],
   "source": [
    "from sklearn.base import BaseEstimator, TransformerMixin\n",
    "\n",
    "class DataCleaner(BaseEstimator, TransformerMixin):\n",
    "    \n",
    "    def fit(self, X, y=None):\n",
    "        return self # No fitting for cleaning step\n",
    "        \n",
    "    def transform(self, X):\n",
    "        # Temperature columns\n",
    "        Tcols= [\"T1\", \"T2\", \"T3\", \"T4\", \"T5\", \"T6\", \"T7\", \"T8\", \"T9\", \"T_out\", \"Tdewpoint\"]\n",
    "        \n",
    "        # Humidity columns\n",
    "        RHcols = [\"RH_1\", \"RH_2\", \"RH_3\", \"RH_4\", \"RH_5\", \"RH_6\", \"RH_7\", \"RH_8\", \"RH_9\", \"RH_out\"]\n",
    "        \n",
    "        X = self.clean_data(-50,50,Tcols,X) # Clean temperatures\n",
    "        X = self.clean_data(0,100,RHcols,X) # Clean humidity\n",
    "        \n",
    "        return X\n",
    "    \n",
    "\n",
    "    def clean_data(self, min_value, max_value, columns, data):\n",
    "        clean_data = data.copy()\n",
    "        for col in columns:\n",
    "            clean_data = clean_data[ (clean_data[col] <= max_value)\n",
    "                                   & (clean_data[col] >= min_value)]\n",
    "        return clean_data"
   ]
  },
  {
   "cell_type": "code",
   "execution_count": null,
   "metadata": {},
   "outputs": [],
   "source": []
  },
  {
   "cell_type": "code",
   "execution_count": null,
   "metadata": {},
   "outputs": [],
   "source": []
  },
  {
   "cell_type": "code",
   "execution_count": null,
   "metadata": {
    "scrolled": true
   },
   "outputs": [],
   "source": []
  },
  {
   "cell_type": "code",
   "execution_count": null,
   "metadata": {},
   "outputs": [],
   "source": []
  },
  {
   "cell_type": "code",
   "execution_count": null,
   "metadata": {},
   "outputs": [],
   "source": []
  },
  {
   "cell_type": "markdown",
   "metadata": {},
   "source": [
    "## Convert date timestamp to numeric values"
   ]
  },
  {
   "cell_type": "code",
   "execution_count": 25,
   "metadata": {},
   "outputs": [],
   "source": [
    "from datetime import datetime\n",
    "\n",
    "def parse_timestamp(timestamp):\n",
    "    return datetime.strptime(timestamp, \"%Y-%m-%d %H:%M:%S\")"
   ]
  },
  {
   "cell_type": "markdown",
   "metadata": {},
   "source": [
    "A testing dataframe is populated here to show examples of each conversion"
   ]
  },
  {
   "cell_type": "code",
   "execution_count": 46,
   "metadata": {},
   "outputs": [],
   "source": [
    "time_test = energy_train.copy()\n",
    "time_test = time_test.loc[:, \"date\":\"Appliances\"]"
   ]
  },
  {
   "cell_type": "code",
   "execution_count": null,
   "metadata": {},
   "outputs": [],
   "source": []
  },
  {
   "cell_type": "markdown",
   "metadata": {},
   "source": [
    "### Numeric\n",
    "Turn datetime into basic numeric forms, for example monday=0, tuesday=1..."
   ]
  },
  {
   "cell_type": "code",
   "execution_count": 49,
   "metadata": {},
   "outputs": [],
   "source": [
    "def get_numeric_time(timestamp):\n",
    "    dt = parse_timestamp(timestamp)\n",
    "    hour = dt.hour\n",
    "    day = dt.weekday()\n",
    "    \n",
    "    return hour,day"
   ]
  },
  {
   "cell_type": "markdown",
   "metadata": {},
   "source": [
    "Example numeric time conversion"
   ]
  },
  {
   "cell_type": "code",
   "execution_count": 50,
   "metadata": {},
   "outputs": [],
   "source": [
    "time_test[[\"hour_num\", \"day_num\"]] = energy_train[\"date\"].map(get_numeric_time).apply(pd.Series)"
   ]
  },
  {
   "cell_type": "code",
   "execution_count": 51,
   "metadata": {
    "scrolled": true
   },
   "outputs": [
    {
     "data": {
      "text/html": [
       "<div>\n",
       "<style scoped>\n",
       "    .dataframe tbody tr th:only-of-type {\n",
       "        vertical-align: middle;\n",
       "    }\n",
       "\n",
       "    .dataframe tbody tr th {\n",
       "        vertical-align: top;\n",
       "    }\n",
       "\n",
       "    .dataframe thead th {\n",
       "        text-align: right;\n",
       "    }\n",
       "</style>\n",
       "<table border=\"1\" class=\"dataframe\">\n",
       "  <thead>\n",
       "    <tr style=\"text-align: right;\">\n",
       "      <th></th>\n",
       "      <th>date</th>\n",
       "      <th>hour_num</th>\n",
       "      <th>day_num</th>\n",
       "    </tr>\n",
       "  </thead>\n",
       "  <tbody>\n",
       "    <tr>\n",
       "      <th>2133</th>\n",
       "      <td>2016-01-26 12:30:00</td>\n",
       "      <td>12</td>\n",
       "      <td>1</td>\n",
       "    </tr>\n",
       "    <tr>\n",
       "      <th>19730</th>\n",
       "      <td>2016-05-27 17:20:00</td>\n",
       "      <td>17</td>\n",
       "      <td>4</td>\n",
       "    </tr>\n",
       "    <tr>\n",
       "      <th>3288</th>\n",
       "      <td>2016-02-03 13:00:00</td>\n",
       "      <td>13</td>\n",
       "      <td>2</td>\n",
       "    </tr>\n",
       "    <tr>\n",
       "      <th>7730</th>\n",
       "      <td>2016-03-05 09:20:00</td>\n",
       "      <td>9</td>\n",
       "      <td>5</td>\n",
       "    </tr>\n",
       "    <tr>\n",
       "      <th>8852</th>\n",
       "      <td>2016-03-13 04:20:00</td>\n",
       "      <td>4</td>\n",
       "      <td>6</td>\n",
       "    </tr>\n",
       "  </tbody>\n",
       "</table>\n",
       "</div>"
      ],
      "text/plain": [
       "                      date  hour_num  day_num\n",
       "2133   2016-01-26 12:30:00        12        1\n",
       "19730  2016-05-27 17:20:00        17        4\n",
       "3288   2016-02-03 13:00:00        13        2\n",
       "7730   2016-03-05 09:20:00         9        5\n",
       "8852   2016-03-13 04:20:00         4        6"
      ]
     },
     "execution_count": 51,
     "metadata": {},
     "output_type": "execute_result"
    }
   ],
   "source": [
    "time_test[[\"date\",\"hour_num\", \"day_num\"]].head(5)"
   ]
  },
  {
   "cell_type": "markdown",
   "metadata": {},
   "source": [
    "### Cyclic\n",
    "Due to the nature of time being cyclical, we want to keep this characteristic for our learning model. A way to do this is using sine and cosine transformations.\n",
    "https://ianlondon.github.io/blog/encoding-cyclical-features-24hour-time/"
   ]
  },
  {
   "cell_type": "code",
   "execution_count": 52,
   "metadata": {},
   "outputs": [],
   "source": [
    "def get_cyclic_time(timestamp):\n",
    "    dt = parse_timestamp(timestamp)\n",
    "    \n",
    "    hour_sin = np.sin(2*np.pi*dt.hour/24)\n",
    "    hour_cos = np.cos(2*np.pi*dt.hour/24)\n",
    "    day_sin = np.sin(2*np.pi*dt.weekday()/7)\n",
    "    day_cos = np.cos(2*np.pi*dt.weekday()/7)\n",
    "    \n",
    "    return hour_sin, hour_cos, day_sin, day_cos"
   ]
  },
  {
   "cell_type": "markdown",
   "metadata": {},
   "source": [
    "Example cyclic time conversion"
   ]
  },
  {
   "cell_type": "code",
   "execution_count": 53,
   "metadata": {},
   "outputs": [],
   "source": [
    "time_test[[\"hour_sin\", \"hour_cos\", \"day_sin\", \"day_cos\"]] = energy_train[\"date\"].map(get_cyclic_time).apply(pd.Series)"
   ]
  },
  {
   "cell_type": "code",
   "execution_count": 54,
   "metadata": {},
   "outputs": [
    {
     "data": {
      "text/html": [
       "<div>\n",
       "<style scoped>\n",
       "    .dataframe tbody tr th:only-of-type {\n",
       "        vertical-align: middle;\n",
       "    }\n",
       "\n",
       "    .dataframe tbody tr th {\n",
       "        vertical-align: top;\n",
       "    }\n",
       "\n",
       "    .dataframe thead th {\n",
       "        text-align: right;\n",
       "    }\n",
       "</style>\n",
       "<table border=\"1\" class=\"dataframe\">\n",
       "  <thead>\n",
       "    <tr style=\"text-align: right;\">\n",
       "      <th></th>\n",
       "      <th>date</th>\n",
       "      <th>hour_sin</th>\n",
       "      <th>hour_cos</th>\n",
       "      <th>day_sin</th>\n",
       "      <th>day_cos</th>\n",
       "    </tr>\n",
       "  </thead>\n",
       "  <tbody>\n",
       "    <tr>\n",
       "      <th>2133</th>\n",
       "      <td>2016-01-26 12:30:00</td>\n",
       "      <td>1.224647e-16</td>\n",
       "      <td>-1.000000</td>\n",
       "      <td>0.781831</td>\n",
       "      <td>0.623490</td>\n",
       "    </tr>\n",
       "    <tr>\n",
       "      <th>19730</th>\n",
       "      <td>2016-05-27 17:20:00</td>\n",
       "      <td>-9.659258e-01</td>\n",
       "      <td>-0.258819</td>\n",
       "      <td>-0.433884</td>\n",
       "      <td>-0.900969</td>\n",
       "    </tr>\n",
       "    <tr>\n",
       "      <th>3288</th>\n",
       "      <td>2016-02-03 13:00:00</td>\n",
       "      <td>-2.588190e-01</td>\n",
       "      <td>-0.965926</td>\n",
       "      <td>0.974928</td>\n",
       "      <td>-0.222521</td>\n",
       "    </tr>\n",
       "    <tr>\n",
       "      <th>7730</th>\n",
       "      <td>2016-03-05 09:20:00</td>\n",
       "      <td>7.071068e-01</td>\n",
       "      <td>-0.707107</td>\n",
       "      <td>-0.974928</td>\n",
       "      <td>-0.222521</td>\n",
       "    </tr>\n",
       "    <tr>\n",
       "      <th>8852</th>\n",
       "      <td>2016-03-13 04:20:00</td>\n",
       "      <td>8.660254e-01</td>\n",
       "      <td>0.500000</td>\n",
       "      <td>-0.781831</td>\n",
       "      <td>0.623490</td>\n",
       "    </tr>\n",
       "  </tbody>\n",
       "</table>\n",
       "</div>"
      ],
      "text/plain": [
       "                      date      hour_sin  hour_cos   day_sin   day_cos\n",
       "2133   2016-01-26 12:30:00  1.224647e-16 -1.000000  0.781831  0.623490\n",
       "19730  2016-05-27 17:20:00 -9.659258e-01 -0.258819 -0.433884 -0.900969\n",
       "3288   2016-02-03 13:00:00 -2.588190e-01 -0.965926  0.974928 -0.222521\n",
       "7730   2016-03-05 09:20:00  7.071068e-01 -0.707107 -0.974928 -0.222521\n",
       "8852   2016-03-13 04:20:00  8.660254e-01  0.500000 -0.781831  0.623490"
      ]
     },
     "execution_count": 54,
     "metadata": {},
     "output_type": "execute_result"
    }
   ],
   "source": [
    "time_test[[\"date\", \"hour_sin\", \"hour_cos\", \"day_sin\", \"day_cos\"]].head(5)"
   ]
  },
  {
   "cell_type": "markdown",
   "metadata": {},
   "source": [
    "### Seconds from midnight\n",
    "A feature used by the paper is to extract the timestamp as the number of seconds from midnight (NSM) instead of using the actual hours of the day"
   ]
  },
  {
   "cell_type": "code",
   "execution_count": 55,
   "metadata": {},
   "outputs": [],
   "source": [
    "def get_nsm(timestamp):\n",
    "    dt = parse_timestamp(timestamp)\n",
    "    midnight = dt.replace(hour=0, minute=0, second=0, microsecond=0)\n",
    "    \n",
    "    seconds = (dt - midnight).seconds\n",
    "    \n",
    "    return seconds\n",
    "    \n",
    "def get_cyclic_nsm(timestamp):\n",
    "    seconds = get_nsm(timestamp)\n",
    "    seconds_sin = np.sin(2*np.pi*seconds/(24*60*60))\n",
    "    seconds_cos = np.cos(2*np.pi*seconds/(24*60*60))\n",
    "    \n",
    "    return seconds_sin, seconds_cos"
   ]
  },
  {
   "cell_type": "markdown",
   "metadata": {},
   "source": [
    "Example NSM conversion"
   ]
  },
  {
   "cell_type": "code",
   "execution_count": 56,
   "metadata": {},
   "outputs": [],
   "source": [
    "time_test[[\"NSM\"]] = energy_train[\"date\"].map(get_nsm).apply(pd.Series)\n",
    "time_test[[\"NSM_sin\", \"NSM_cos\"]] = energy_train[\"date\"].map(get_cyclic_nsm).apply(pd.Series)"
   ]
  },
  {
   "cell_type": "code",
   "execution_count": 57,
   "metadata": {},
   "outputs": [
    {
     "data": {
      "text/html": [
       "<div>\n",
       "<style scoped>\n",
       "    .dataframe tbody tr th:only-of-type {\n",
       "        vertical-align: middle;\n",
       "    }\n",
       "\n",
       "    .dataframe tbody tr th {\n",
       "        vertical-align: top;\n",
       "    }\n",
       "\n",
       "    .dataframe thead th {\n",
       "        text-align: right;\n",
       "    }\n",
       "</style>\n",
       "<table border=\"1\" class=\"dataframe\">\n",
       "  <thead>\n",
       "    <tr style=\"text-align: right;\">\n",
       "      <th></th>\n",
       "      <th>NSM</th>\n",
       "      <th>NSM_sin</th>\n",
       "      <th>NSM_cos</th>\n",
       "    </tr>\n",
       "  </thead>\n",
       "  <tbody>\n",
       "    <tr>\n",
       "      <th>2133</th>\n",
       "      <td>45000</td>\n",
       "      <td>-0.130526</td>\n",
       "      <td>-0.991445</td>\n",
       "    </tr>\n",
       "    <tr>\n",
       "      <th>19730</th>\n",
       "      <td>62400</td>\n",
       "      <td>-0.984808</td>\n",
       "      <td>-0.173648</td>\n",
       "    </tr>\n",
       "    <tr>\n",
       "      <th>3288</th>\n",
       "      <td>46800</td>\n",
       "      <td>-0.258819</td>\n",
       "      <td>-0.965926</td>\n",
       "    </tr>\n",
       "    <tr>\n",
       "      <th>7730</th>\n",
       "      <td>33600</td>\n",
       "      <td>0.642788</td>\n",
       "      <td>-0.766044</td>\n",
       "    </tr>\n",
       "    <tr>\n",
       "      <th>8852</th>\n",
       "      <td>15600</td>\n",
       "      <td>0.906308</td>\n",
       "      <td>0.422618</td>\n",
       "    </tr>\n",
       "  </tbody>\n",
       "</table>\n",
       "</div>"
      ],
      "text/plain": [
       "         NSM   NSM_sin   NSM_cos\n",
       "2133   45000 -0.130526 -0.991445\n",
       "19730  62400 -0.984808 -0.173648\n",
       "3288   46800 -0.258819 -0.965926\n",
       "7730   33600  0.642788 -0.766044\n",
       "8852   15600  0.906308  0.422618"
      ]
     },
     "execution_count": 57,
     "metadata": {},
     "output_type": "execute_result"
    }
   ],
   "source": [
    "time_test[[\"NSM\", \"NSM_sin\", \"NSM_cos\"]].head(5)"
   ]
  },
  {
   "cell_type": "markdown",
   "metadata": {},
   "source": [
    "### Categorical day of the week\n",
    "As NSM does not convey any information about the day of the week, we can also convert the date into categorical values for each day of the week"
   ]
  },
  {
   "cell_type": "code",
   "execution_count": 58,
   "metadata": {},
   "outputs": [],
   "source": [
    "def get_categorical_day(timestamp):\n",
    "    dt = parse_timestamp(timestamp)\n",
    "    day_num = dt.weekday()\n",
    "\n",
    "    # Categories in order: Monday, Tuesday, Wednesday, Thursday, Friday, Saturday, Sunday\n",
    "    categories = [0,0,0,0,0,0,0]\n",
    "    categories[day_num] = 1\n",
    "    \n",
    "    return tuple(categories)"
   ]
  },
  {
   "cell_type": "code",
   "execution_count": 59,
   "metadata": {},
   "outputs": [],
   "source": [
    "days_of_week = [\"Monday\", \"Tuesday\", \"Wednesday\", \"Thursday\", \"Friday\", \"Saturday\", \"Sunday\"]\n",
    "time_test[days_of_week] = energy_train[\"date\"].map(get_categorical_day).apply(pd.Series)"
   ]
  },
  {
   "cell_type": "code",
   "execution_count": 60,
   "metadata": {},
   "outputs": [
    {
     "data": {
      "text/html": [
       "<div>\n",
       "<style scoped>\n",
       "    .dataframe tbody tr th:only-of-type {\n",
       "        vertical-align: middle;\n",
       "    }\n",
       "\n",
       "    .dataframe tbody tr th {\n",
       "        vertical-align: top;\n",
       "    }\n",
       "\n",
       "    .dataframe thead th {\n",
       "        text-align: right;\n",
       "    }\n",
       "</style>\n",
       "<table border=\"1\" class=\"dataframe\">\n",
       "  <thead>\n",
       "    <tr style=\"text-align: right;\">\n",
       "      <th></th>\n",
       "      <th>date</th>\n",
       "      <th>Monday</th>\n",
       "      <th>Tuesday</th>\n",
       "      <th>Wednesday</th>\n",
       "      <th>Thursday</th>\n",
       "      <th>Friday</th>\n",
       "      <th>Saturday</th>\n",
       "      <th>Sunday</th>\n",
       "    </tr>\n",
       "  </thead>\n",
       "  <tbody>\n",
       "    <tr>\n",
       "      <th>2133</th>\n",
       "      <td>2016-01-26 12:30:00</td>\n",
       "      <td>0</td>\n",
       "      <td>1</td>\n",
       "      <td>0</td>\n",
       "      <td>0</td>\n",
       "      <td>0</td>\n",
       "      <td>0</td>\n",
       "      <td>0</td>\n",
       "    </tr>\n",
       "    <tr>\n",
       "      <th>19730</th>\n",
       "      <td>2016-05-27 17:20:00</td>\n",
       "      <td>0</td>\n",
       "      <td>0</td>\n",
       "      <td>0</td>\n",
       "      <td>0</td>\n",
       "      <td>1</td>\n",
       "      <td>0</td>\n",
       "      <td>0</td>\n",
       "    </tr>\n",
       "    <tr>\n",
       "      <th>3288</th>\n",
       "      <td>2016-02-03 13:00:00</td>\n",
       "      <td>0</td>\n",
       "      <td>0</td>\n",
       "      <td>1</td>\n",
       "      <td>0</td>\n",
       "      <td>0</td>\n",
       "      <td>0</td>\n",
       "      <td>0</td>\n",
       "    </tr>\n",
       "    <tr>\n",
       "      <th>7730</th>\n",
       "      <td>2016-03-05 09:20:00</td>\n",
       "      <td>0</td>\n",
       "      <td>0</td>\n",
       "      <td>0</td>\n",
       "      <td>0</td>\n",
       "      <td>0</td>\n",
       "      <td>1</td>\n",
       "      <td>0</td>\n",
       "    </tr>\n",
       "    <tr>\n",
       "      <th>8852</th>\n",
       "      <td>2016-03-13 04:20:00</td>\n",
       "      <td>0</td>\n",
       "      <td>0</td>\n",
       "      <td>0</td>\n",
       "      <td>0</td>\n",
       "      <td>0</td>\n",
       "      <td>0</td>\n",
       "      <td>1</td>\n",
       "    </tr>\n",
       "  </tbody>\n",
       "</table>\n",
       "</div>"
      ],
      "text/plain": [
       "                      date  Monday  Tuesday  Wednesday  Thursday  Friday  \\\n",
       "2133   2016-01-26 12:30:00       0        1          0         0       0   \n",
       "19730  2016-05-27 17:20:00       0        0          0         0       1   \n",
       "3288   2016-02-03 13:00:00       0        0          1         0       0   \n",
       "7730   2016-03-05 09:20:00       0        0          0         0       0   \n",
       "8852   2016-03-13 04:20:00       0        0          0         0       0   \n",
       "\n",
       "       Saturday  Sunday  \n",
       "2133          0       0  \n",
       "19730         0       0  \n",
       "3288          0       0  \n",
       "7730          1       0  \n",
       "8852          0       1  "
      ]
     },
     "execution_count": 60,
     "metadata": {},
     "output_type": "execute_result"
    }
   ],
   "source": [
    "time_test[[\"date\"] + days_of_week].head(5)"
   ]
  },
  {
   "cell_type": "markdown",
   "metadata": {},
   "source": [
    "Comparison of different timestamp metrics."
   ]
  },
  {
   "cell_type": "code",
   "execution_count": 61,
   "metadata": {},
   "outputs": [
    {
     "data": {
      "text/plain": [
       "Appliances    1.000000\n",
       "NSM_sin       0.257612\n",
       "hour_cos      0.235795\n",
       "hour_sin      0.232684\n",
       "NSM           0.214894\n",
       "hour_num      0.214376\n",
       "NSM_cos       0.208421\n",
       "day_sin       0.057391\n",
       "Tuesday       0.044684\n",
       "Monday        0.043015\n",
       "Friday        0.035578\n",
       "Saturday      0.034275\n",
       "Wednesday     0.028898\n",
       "Thursday      0.027322\n",
       "day_num       0.011186\n",
       "Sunday        0.010539\n",
       "day_cos       0.000270\n",
       "Name: Appliances, dtype: float64"
      ]
     },
     "execution_count": 61,
     "metadata": {},
     "output_type": "execute_result"
    }
   ],
   "source": [
    "time_correlation = time_test.corr()\n",
    "time_correlation[\"Appliances\"].map(abs).sort_values(ascending=False)"
   ]
  },
  {
   "cell_type": "code",
   "execution_count": null,
   "metadata": {
    "scrolled": true
   },
   "outputs": [],
   "source": []
  },
  {
   "cell_type": "code",
   "execution_count": null,
   "metadata": {},
   "outputs": [],
   "source": []
  },
  {
   "cell_type": "markdown",
   "metadata": {},
   "source": [
    "### Turn time conversion into a step in the pipeline"
   ]
  },
  {
   "cell_type": "code",
   "execution_count": null,
   "metadata": {},
   "outputs": [],
   "source": [
    "from enum import Enum\n",
    "\n",
    "# Enum for different kinds of time conversion\n",
    "class TimeConversion(Enum):\n",
    "    NUMERIC = 1\n",
    "    CYCLIC = 2\n",
    "    NSM = 3\n",
    "    NSM_CYCLIC = 4\n",
    "    CATEGORICAL = 5\n",
    "\n",
    "\n",
    "# This transformer takes the DataFrame and converts the date timestamp\n",
    "# The date column is then dropped\n",
    "class DatetimeTransformer(BaseEstimator, TransformerMixin):\n",
    "    def __init__(self, choice=TimeConversion.CYCLIC):\n",
    "        self.choice = choice\n",
    "        \n",
    "    def fit(self, X, y=None):\n",
    "        return self # No fitting in transformer\n",
    "    \n",
    "    def transform(self, X):\n",
    "        if self.choice == TimeConversion.NUMERIC:\n",
    "            numeric_columns = [\"hour_num\", \"day_num\"]\n",
    "            \n",
    "            X[numeric_columns] = self.mapTransformation(X, get_numeric_time)\n",
    "            return self.dropDate(X)\n",
    "            \n",
    "        elif self.choice == TimeConversion.CYCLIC:\n",
    "            cyclic_columns = [\"hour_sin\", \"hour_cos\", \"day_sin\", \"day_cos\"]\n",
    "            \n",
    "            X[cyclic_columns] = self.mapTransformation(X, get_cyclic_time)\n",
    "            return self.dropDate(X)\n",
    "        \n",
    "        elif self.choice == TimeConversion.NSM:\n",
    "            X[[\"NSM\"]] = self.mapTransformation(X, get_nsm)\n",
    "            return self.dropDate(X)\n",
    "        \n",
    "        elif self.choice == TimeConversion.NSM_CYCLIC:\n",
    "            nsm_columns = [\"NSM_sin\", \"NSM_cos\"]\n",
    "            \n",
    "            X[nsm_columns] = self.mapTransformation(X, get_cyclic_nsm)\n",
    "            return self.dropDate(X)\n",
    "        \n",
    "        elif self.choice == TimeConversion.CATEGORICAL:\n",
    "            categorical_columns = [\"Monday\", \"Tuesday\", \"Wednesday\", \"Thursday\", \"Friday\", \"Saturday\", \"Sunday\"]\n",
    "            \n",
    "            X[categorical_columns] = self.mapTransformation(X, get_categorical_day)\n",
    "            return self.dropDate(X)\n",
    "        \n",
    "        else:\n",
    "            # No transformation\n",
    "            return pd.DataFrame(X)\n",
    "        \n",
    "    def mapTransformation(self, X, mapper):\n",
    "        return X[\"date\"].map(mapper).apply(pd.Series)\n",
    "    \n",
    "    def dropDate(self, X):\n",
    "        return X.drop(\"date\", axis=1)"
   ]
  },
  {
   "cell_type": "code",
   "execution_count": null,
   "metadata": {},
   "outputs": [],
   "source": []
  },
  {
   "cell_type": "code",
   "execution_count": null,
   "metadata": {},
   "outputs": [],
   "source": []
  },
  {
   "cell_type": "code",
   "execution_count": null,
   "metadata": {
    "scrolled": true
   },
   "outputs": [],
   "source": []
  },
  {
   "cell_type": "code",
   "execution_count": null,
   "metadata": {},
   "outputs": [],
   "source": [
    "from sklearn.pipeline import Pipeline\n",
    "from sklearn.pipeline import FeatureUnion\n",
    "from sklearn.preprocessing import StandardScaler\n",
    "\n",
    "test_pipe = Pipeline([\n",
    "    (\"clean_data\", DataCleaner()),\n",
    "    (\"date_transform\", DatetimeTransformer(DT.CYCLIC))\n",
    "])"
   ]
  },
  {
   "cell_type": "markdown",
   "metadata": {},
   "source": [
    "### Plot histograms for all columns"
   ]
  },
  {
   "cell_type": "code",
   "execution_count": 62,
   "metadata": {},
   "outputs": [
    {
     "data": {
      "image/png": "[encoded data removed]",
      "text/plain": [
       "<matplotlib.figure.Figure at 0x7f7c86cb04e0>"
      ]
     },
     "metadata": {},
     "output_type": "display_data"
    }
   ],
   "source": [
    "hists = energy_train.hist(bins=100,figsize=(20,15))"
   ]
  },
  {
   "cell_type": "code",
   "execution_count": null,
   "metadata": {},
   "outputs": [],
   "source": []
  },
  {
   "cell_type": "code",
   "execution_count": null,
   "metadata": {},
   "outputs": [],
   "source": []
  },
  {
   "cell_type": "markdown",
   "metadata": {},
   "source": [
    "## Feature scaling"
   ]
  },
  {
   "cell_type": "code",
   "execution_count": null,
   "metadata": {},
   "outputs": [],
   "source": [
    "from sklearn.preprocessing import MinMaxScaler\n",
    "\n",
    "scaling = Pipeline([\n",
    "    (\"scaler\", StandardScaler())\n",
    "])\n",
    "\n"
   ]
  },
  {
   "cell_type": "code",
   "execution_count": null,
   "metadata": {},
   "outputs": [],
   "source": [
    "scaler = MinMaxScaler()"
   ]
  },
  {
   "cell_type": "code",
   "execution_count": null,
   "metadata": {},
   "outputs": [],
   "source": [
    "new_c = energy.drop(\"date\", axis=1)"
   ]
  },
  {
   "cell_type": "code",
   "execution_count": null,
   "metadata": {},
   "outputs": [],
   "source": [
    "scaled = scaling.fit_transform(energy.drop(\"date\", axis=1))"
   ]
  },
  {
   "cell_type": "code",
   "execution_count": null,
   "metadata": {},
   "outputs": [],
   "source": [
    "scaled = pd.DataFrame(scaled, index=new_c.index, columns=new_c.columns)"
   ]
  },
  {
   "cell_type": "code",
   "execution_count": null,
   "metadata": {},
   "outputs": [],
   "source": [
    "scaled[\"Appliances\"].unique()"
   ]
  },
  {
   "cell_type": "code",
   "execution_count": null,
   "metadata": {},
   "outputs": [],
   "source": []
  },
  {
   "cell_type": "code",
   "execution_count": null,
   "metadata": {
    "scrolled": true
   },
   "outputs": [],
   "source": [
    "cm = energy.corr()\n",
    "cm[\"Appliances\"].map(abs).sort_values(ascending=False)"
   ]
  },
  {
   "cell_type": "markdown",
   "metadata": {},
   "source": [
    "### Data selection"
   ]
  },
  {
   "cell_type": "code",
   "execution_count": null,
   "metadata": {},
   "outputs": [],
   "source": []
  },
  {
   "cell_type": "code",
   "execution_count": null,
   "metadata": {},
   "outputs": [],
   "source": []
  },
  {
   "cell_type": "code",
   "execution_count": null,
   "metadata": {},
   "outputs": [],
   "source": []
  },
  {
   "cell_type": "code",
   "execution_count": null,
   "metadata": {},
   "outputs": [],
   "source": [
    "energy"
   ]
  },
  {
   "cell_type": "code",
   "execution_count": null,
   "metadata": {},
   "outputs": [],
   "source": [
    "energy.drop(columns=[\"date\"])"
   ]
  },
  {
   "cell_type": "code",
   "execution_count": null,
   "metadata": {},
   "outputs": [],
   "source": [
    "data_pipeline = Pipeline([\n",
    "    (\"normalise\", StandardScaler())\n",
    "])\n"
   ]
  },
  {
   "cell_type": "code",
   "execution_count": null,
   "metadata": {},
   "outputs": [],
   "source": [
    "normalised = data_pipeline.fit_transform(energy.drop(columns=[\"date\"]))"
   ]
  },
  {
   "cell_type": "code",
   "execution_count": null,
   "metadata": {},
   "outputs": [],
   "source": [
    "normalised"
   ]
  },
  {
   "cell_type": "markdown",
   "metadata": {},
   "source": [
    "### Check correlations"
   ]
  },
  {
   "cell_type": "code",
   "execution_count": null,
   "metadata": {
    "scrolled": true
   },
   "outputs": [],
   "source": [
    "cm = energy.corr()\n",
    "cm[\"Appliances\"].map(abs).sort_values(ascending=False)"
   ]
  },
  {
   "cell_type": "code",
   "execution_count": null,
   "metadata": {},
   "outputs": [],
   "source": []
  },
  {
   "cell_type": "code",
   "execution_count": null,
   "metadata": {},
   "outputs": [],
   "source": []
  },
  {
   "cell_type": "code",
   "execution_count": null,
   "metadata": {},
   "outputs": [],
   "source": []
  },
  {
   "cell_type": "code",
   "execution_count": null,
   "metadata": {},
   "outputs": [],
   "source": []
  },
  {
   "cell_type": "markdown",
   "metadata": {},
   "source": [
    "## Model selection and training"
   ]
  },
  {
   "cell_type": "code",
   "execution_count": null,
   "metadata": {},
   "outputs": [],
   "source": []
  },
  {
   "cell_type": "code",
   "execution_count": null,
   "metadata": {},
   "outputs": [],
   "source": [
    "from sklearn.linear_model import LinearRegression"
   ]
  },
  {
   "cell_type": "markdown",
   "metadata": {},
   "source": [
    "### Misc pipeline stages"
   ]
  },
  {
   "cell_type": "markdown",
   "metadata": {},
   "source": [
    "The `DFNPConverter` converts between a DataFrame and numpy array."
   ]
  },
  {
   "cell_type": "code",
   "execution_count": null,
   "metadata": {},
   "outputs": [],
   "source": [
    "class DFNPConverter(BaseEstimator, TransformerMixin):\n",
    "    def __init__(self, toDF=True, DF_index=None, DF_columns=None):\n",
    "        self.toDF = toDF\n",
    "        \n",
    "        # If converting back to DF, need index and columns of original DataFrame\n",
    "        self.DF_index = DF_index\n",
    "        self.DF_columns = DF_columns\n",
    "        \n",
    "    def fit(self, X, y=None):\n",
    "        return self # No fitting for df/np conversion\n",
    "    \n",
    "    def transform(self, X):\n",
    "        if self.toDF:\n",
    "            return pd.DataFrame(X, index=self.DF_index, columns=self.DF_columns)\n",
    "        \n",
    "        else:\n",
    "            return X.values"
   ]
  },
  {
   "cell_type": "code",
   "execution_count": null,
   "metadata": {},
   "outputs": [],
   "source": []
  },
  {
   "cell_type": "code",
   "execution_count": null,
   "metadata": {},
   "outputs": [],
   "source": []
  },
  {
   "cell_type": "code",
   "execution_count": null,
   "metadata": {},
   "outputs": [],
   "source": []
  },
  {
   "cell_type": "code",
   "execution_count": null,
   "metadata": {},
   "outputs": [],
   "source": [
    "from sklearn.pipeline import Pipeline\n",
    "from sklearn.preprocessing import StandardScaler\n",
    "from sklearn.preprocessing import PolynomialFeatures\n",
    "\n",
    "preprocessing_pipeline = Pipeline([\n",
    "    (\"cleaning\", DataCleaner()),\n",
    "    (\"time_conversion\", DatetimeTransformer(TimeConversion.CYCLIC)),\n",
    "        (\"poly\", PolynomialFeatures(degree=2)),\n",
    "    (\"feature_scaling\", StandardScaler())\n",
    "    #(\"to_np_array\", DFNPConverter(toDF=True, DF_index=energy_train.index, DF_columns=energy_train.columns))\n",
    "])\n",
    "\n",
    "linreg_pipeline = Pipeline([\n",
    "    (\"preprocessing\", preprocessing_pipeline),\n",
    "    (\"linear_regression\", LinearRegression())\n",
    "])\n",
    "\n",
    "polyreg2_pipeline = Pipeline([\n",
    "    (\"preprocessing\", preprocessing_pipeline),\n",
    "    (\"poly\", PolynomialFeatures(degree=2)),\n",
    "    (\"linear\", LinearRegression())\n",
    "])\n",
    "\n",
    "polyreg3_pipeline = Pipeline([\n",
    "    (\"preprocessing\", preprocessing_pipeline),\n",
    "\n",
    "    (\"linear\", LinearRegression())\n",
    "])"
   ]
  },
  {
   "cell_type": "code",
   "execution_count": null,
   "metadata": {},
   "outputs": [],
   "source": []
  },
  {
   "cell_type": "markdown",
   "metadata": {},
   "source": [
    "### Linear Regression"
   ]
  },
  {
   "cell_type": "code",
   "execution_count": null,
   "metadata": {},
   "outputs": [],
   "source": [
    "from sklearn.linear_model import LinearRegression\n",
    "from sklearn.metrics import mean_squared_error\n",
    "from sklearn.model_selection import cross_val_predict\n",
    "from sklearn import metrics\n",
    "\n",
    "input = energy_train.drop([\"Appliances\", \"rv1\", \"rv2\", \"Visibility\"], axis=1)\n",
    "output = energy_train[\"Appliances\"]"
   ]
  },
  {
   "cell_type": "code",
   "execution_count": null,
   "metadata": {},
   "outputs": [],
   "source": []
  },
  {
   "cell_type": "code",
   "execution_count": null,
   "metadata": {},
   "outputs": [],
   "source": [
    "class Trainer():\n",
    "    def __init__(self, model, input, output, kfold=5):\n",
    "        self.model = model\n",
    "        self.input = input\n",
    "        self.output = output\n",
    "        self.kfold = kfold\n",
    "        \n",
    "    def \n",
    "    "
   ]
  },
  {
   "cell_type": "code",
   "execution_count": null,
   "metadata": {},
   "outputs": [],
   "source": []
  },
  {
   "cell_type": "code",
   "execution_count": null,
   "metadata": {},
   "outputs": [],
   "source": []
  },
  {
   "cell_type": "code",
   "execution_count": null,
   "metadata": {},
   "outputs": [],
   "source": []
  },
  {
   "cell_type": "code",
   "execution_count": null,
   "metadata": {},
   "outputs": [],
   "source": []
  },
  {
   "cell_type": "code",
   "execution_count": null,
   "metadata": {},
   "outputs": [],
   "source": [
    "from sklearn.model_selection import KFold\n",
    "from sklearn.model_selection import cross_validate"
   ]
  },
  {
   "cell_type": "code",
   "execution_count": null,
   "metadata": {},
   "outputs": [],
   "source": [
    "kfold = KFold(n_splits=3)"
   ]
  },
  {
   "cell_type": "code",
   "execution_count": null,
   "metadata": {},
   "outputs": [],
   "source": [
    "scoring_methods={\"nmse\": \"neg_mean_squared_error\", \n",
    "                 \"r2\": \"r2\", \n",
    "                 \"nmae\": \"neg_mean_absolute_error\"}"
   ]
  },
  {
   "cell_type": "code",
   "execution_count": null,
   "metadata": {
    "scrolled": false
   },
   "outputs": [],
   "source": [
    "lin_res = cross_val_predict(linreg_pipeline, input, output, cv=5)\n",
    "poly2_res = cross_val_predict(polyreg2_pipeline, input, output, cv=5)\n",
    "#poly3_res = cross_validate(polyreg3_pipeline, input, output, cv=kfold, scoring=scoring_methods)"
   ]
  },
  {
   "cell_type": "code",
   "execution_count": null,
   "metadata": {},
   "outputs": [],
   "source": [
    "lin_res"
   ]
  },
  {
   "cell_type": "code",
   "execution_count": null,
   "metadata": {},
   "outputs": [],
   "source": [
    "plt.scatter(poly2_res, output)"
   ]
  },
  {
   "cell_type": "code",
   "execution_count": null,
   "metadata": {},
   "outputs": [],
   "source": []
  },
  {
   "cell_type": "code",
   "execution_count": null,
   "metadata": {},
   "outputs": [],
   "source": []
  },
  {
   "cell_type": "code",
   "execution_count": null,
   "metadata": {},
   "outputs": [],
   "source": [
    "lin_res"
   ]
  },
  {
   "cell_type": "code",
   "execution_count": null,
   "metadata": {
    "scrolled": true
   },
   "outputs": [],
   "source": [
    "poly2_res"
   ]
  },
  {
   "cell_type": "code",
   "execution_count": null,
   "metadata": {},
   "outputs": [],
   "source": []
  },
  {
   "cell_type": "code",
   "execution_count": null,
   "metadata": {},
   "outputs": [],
   "source": []
  },
  {
   "cell_type": "code",
   "execution_count": null,
   "metadata": {},
   "outputs": [],
   "source": []
  },
  {
   "cell_type": "code",
   "execution_count": null,
   "metadata": {},
   "outputs": [],
   "source": []
  },
  {
   "cell_type": "code",
   "execution_count": null,
   "metadata": {},
   "outputs": [],
   "source": [
    "from sklearn.linear_model import Ridge\n",
    "\n",
    "ridge_pipeline = Pipeline([\n",
    "    (\"preprocessing\", preprocessing_pipeline),\n",
    "    (\"poly\", PolynomialFeatures(degree=2)),\n",
    "    (\"ridge\", Ridge(alpha=0.9))\n",
    "])"
   ]
  },
  {
   "cell_type": "code",
   "execution_count": null,
   "metadata": {},
   "outputs": [],
   "source": [
    "from sklearn.linear_model import Lasso\n",
    "\n",
    "lasso_pipeline = Pipeline([\n",
    "    (\"preprocessing\", preprocessing_pipeline),\n",
    "    (\"poly\", PolynomialFeatures(degree=2)),\n",
    "    (\"lasso\", Lasso(alpha=0.3))\n",
    "])"
   ]
  },
  {
   "cell_type": "code",
   "execution_count": null,
   "metadata": {},
   "outputs": [],
   "source": [
    "ridge_res = cross_val_predict(ridge_pipeline, input, output.map(np.log), cv=5)\n",
    "lasso_res = cross_val_predict(lasso_pipeline, input, output.map(np.log), cv=5)"
   ]
  },
  {
   "cell_type": "code",
   "execution_count": null,
   "metadata": {},
   "outputs": [],
   "source": [
    "l = list(map(np.exp, ridge_res))"
   ]
  },
  {
   "cell_type": "code",
   "execution_count": null,
   "metadata": {},
   "outputs": [],
   "source": []
  },
  {
   "cell_type": "code",
   "execution_count": null,
   "metadata": {},
   "outputs": [],
   "source": [
    "plt.scatter(l, output, alpha=0.1)\n",
    "plt.xlabel(\"Predicted value\")\n",
    "plt.ylabel(\"True value\")"
   ]
  },
  {
   "cell_type": "code",
   "execution_count": null,
   "metadata": {},
   "outputs": [],
   "source": [
    "ls = list(map(np.exp, lasso_res))"
   ]
  },
  {
   "cell_type": "code",
   "execution_count": null,
   "metadata": {},
   "outputs": [],
   "source": [
    "plt.scatter(l, output, alpha=0.1)\n",
    "plt.xlabel(\"Predicted value\")\n",
    "plt.ylabel(\"True value\")"
   ]
  },
  {
   "cell_type": "code",
   "execution_count": null,
   "metadata": {},
   "outputs": [],
   "source": []
  },
  {
   "cell_type": "code",
   "execution_count": null,
   "metadata": {},
   "outputs": [],
   "source": []
  },
  {
   "cell_type": "code",
   "execution_count": null,
   "metadata": {},
   "outputs": [],
   "source": [
    "np.sqrt(mean_squared_error(output, lin_res))"
   ]
  },
  {
   "cell_type": "code",
   "execution_count": null,
   "metadata": {},
   "outputs": [],
   "source": [
    "np.sqrt(mean_squared_error(output, poly2_res))"
   ]
  },
  {
   "cell_type": "code",
   "execution_count": null,
   "metadata": {},
   "outputs": [],
   "source": [
    "np.sqrt(mean_squared_error(output, l))"
   ]
  },
  {
   "cell_type": "code",
   "execution_count": null,
   "metadata": {},
   "outputs": [],
   "source": [
    "np.sqrt(mean_squared_error(output, ls))"
   ]
  },
  {
   "cell_type": "code",
   "execution_count": null,
   "metadata": {},
   "outputs": [],
   "source": []
  },
  {
   "cell_type": "code",
   "execution_count": null,
   "metadata": {},
   "outputs": [],
   "source": []
  },
  {
   "cell_type": "code",
   "execution_count": null,
   "metadata": {},
   "outputs": [],
   "source": []
  },
  {
   "cell_type": "code",
   "execution_count": null,
   "metadata": {},
   "outputs": [],
   "source": []
  },
  {
   "cell_type": "code",
   "execution_count": null,
   "metadata": {},
   "outputs": [],
   "source": []
  },
  {
   "cell_type": "code",
   "execution_count": null,
   "metadata": {},
   "outputs": [],
   "source": []
  },
  {
   "cell_type": "code",
   "execution_count": null,
   "metadata": {},
   "outputs": [],
   "source": []
  },
  {
   "cell_type": "code",
   "execution_count": null,
   "metadata": {},
   "outputs": [],
   "source": [
    "from statsmodels.genmod.generalized_estimating_equations import GEE\n",
    "from statsmodels.genmod.cov_struct import (Exchangeable, Independence, Autoregressive)\n",
    "from statsmodels.genmod.families import Poisson"
   ]
  },
  {
   "cell_type": "code",
   "execution_count": null,
   "metadata": {},
   "outputs": [],
   "source": []
  },
  {
   "cell_type": "code",
   "execution_count": null,
   "metadata": {},
   "outputs": [],
   "source": [
    "lr = LinearRegression()\n",
    "lr.fit(p, energy_train[\"Appliances\"])"
   ]
  },
  {
   "cell_type": "code",
   "execution_count": null,
   "metadata": {},
   "outputs": [],
   "source": []
  },
  {
   "cell_type": "code",
   "execution_count": null,
   "metadata": {},
   "outputs": [],
   "source": [
    "linreg_predictions = lr.predict(p)\n",
    "linreg_mse = mean_squared_error(energy_train[\"Appliances\"], linreg_predictions)\n",
    "linreg_rmse = np.sqrt(linreg_mse)"
   ]
  },
  {
   "cell_type": "code",
   "execution_count": null,
   "metadata": {},
   "outputs": [],
   "source": [
    "linreg_mse"
   ]
  },
  {
   "cell_type": "code",
   "execution_count": null,
   "metadata": {},
   "outputs": [],
   "source": [
    "linreg_rmse"
   ]
  },
  {
   "cell_type": "code",
   "execution_count": null,
   "metadata": {},
   "outputs": [],
   "source": []
  },
  {
   "cell_type": "code",
   "execution_count": null,
   "metadata": {},
   "outputs": [],
   "source": []
  },
  {
   "cell_type": "code",
   "execution_count": null,
   "metadata": {},
   "outputs": [],
   "source": []
  },
  {
   "cell_type": "code",
   "execution_count": null,
   "metadata": {},
   "outputs": [],
   "source": []
  },
  {
   "cell_type": "code",
   "execution_count": null,
   "metadata": {},
   "outputs": [],
   "source": []
  },
  {
   "cell_type": "code",
   "execution_count": null,
   "metadata": {},
   "outputs": [],
   "source": []
  }
 ],
 "metadata": {
  "kernelspec": {
   "display_name": "Python 3",
   "language": "python",
   "name": "python3"
  },
  "language_info": {
   "codemirror_mode": {
    "name": "ipython",
    "version": 3
   },
   "file_extension": ".py",
   "mimetype": "text/x-python",
   "name": "python",
   "nbconvert_exporter": "python",
   "pygments_lexer": "ipython3",
   "version": "3.6.4"
  }
 },
 "nbformat": 4,
 "nbformat_minor": 2
}

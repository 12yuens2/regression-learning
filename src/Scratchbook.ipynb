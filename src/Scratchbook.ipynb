{
 "cells": [
  {
   "cell_type": "code",
   "execution_count": 2,
   "metadata": {},
   "outputs": [],
   "source": [
    "import math\n",
    "import numpy as np\n",
    "import matplotlib.pyplot as plt\n",
    "import pandas as pd"
   ]
  },
  {
   "cell_type": "code",
   "execution_count": 24,
   "metadata": {},
   "outputs": [],
   "source": [
    "from sklearn.model_selection import train_test_split\n",
    "from sklearn.preprocessing import StandardScaler\n",
    "from sklearn.preprocessing import PolynomialFeatures\n",
    "from sklearn.pipeline import Pipeline\n",
    "from sklearn.linear_model import LinearRegression\n",
    "from sklearn.metrics import mean_squared_error\n",
    "\n",
    "from datetime import datetime\n",
    "\n",
    "from visualisation import *\n"
   ]
  },
  {
   "cell_type": "markdown",
   "metadata": {},
   "source": [
    "Get the dataset as a `pandas` dataframe."
   ]
  },
  {
   "cell_type": "code",
   "execution_count": 4,
   "metadata": {},
   "outputs": [],
   "source": [
    "EnergySet = pd.read_csv(\"data/energydata_complete.csv\")\n",
    "df = pd.DataFrame(data=EnergySet)"
   ]
  },
  {
   "cell_type": "code",
   "execution_count": null,
   "metadata": {
    "scrolled": true
   },
   "outputs": [],
   "source": [
    "df"
   ]
  },
  {
   "cell_type": "code",
   "execution_count": 5,
   "metadata": {},
   "outputs": [],
   "source": [
    "# split training and test data\n",
    "def split_data(df):\n",
    "    indices = np.random.permutation(len(df))\n",
    "    test_size = int(len(df) * 0.15)\n",
    "    test_index = indices[:test_size]\n",
    "    train_index = indices[test_size:]\n",
    "    return (df.iloc[train_index], df.iloc[test_index])"
   ]
  },
  {
   "cell_type": "code",
   "execution_count": 8,
   "metadata": {},
   "outputs": [],
   "source": [
    "# split data into training and test data\n",
    "train_df, test_df = train_test_split(df, test_size=0.2, random_state=35)\n",
    "\n",
    "# stratified sampling to avoid sampling bias as dataset is relatively small\n",
    "# use hour sin/cos as base as it has highest correlation\n",
    "#train_df, test_df = train_test_split(df, test_size=0.2, random_state=35, stratify=df[])"
   ]
  },
  {
   "cell_type": "code",
   "execution_count": null,
   "metadata": {},
   "outputs": [],
   "source": []
  },
  {
   "cell_type": "markdown",
   "metadata": {},
   "source": [
    "# Preprocessing\n",
    "\n",
    "Preprocess timestamp into cyclic hour of day and day of week values"
   ]
  },
  {
   "cell_type": "code",
   "execution_count": null,
   "metadata": {},
   "outputs": [],
   "source": [
    "# get tuple of cyclic hour and day \n",
    "def get_cyclic_time(timestamp):\n",
    "    dt = datetime.strptime(timestamp, \"%Y-%m-%d %H:%M:%S\")\n",
    "    hour_sin = np.sin(2*np.pi*dt.hour/24)\n",
    "    hour_cos = np.cos(2*np.pi*dt.hour/24)\n",
    "    \n",
    "    day_sin = np.sin(2*np.pi*dt.weekday()/7)\n",
    "    day_cos = np.cos(2*np.pi*dt.weekday()/7)\n",
    "    \n",
    "    return hour_sin, hour_cos, day_sin, day_cos\n",
    "\n",
    "\n",
    "def get_numeric_time(timestamp):\n",
    "    dt = datetime.strptime(timestamp, \"%Y-%m-%d %H:%M:%S\")\n",
    "    hour = dt.hour\n",
    "    day = dt.weekday()\n",
    "    \n",
    "    return hour,day"
   ]
  },
  {
   "cell_type": "code",
   "execution_count": null,
   "metadata": {},
   "outputs": [],
   "source": [
    "# convert date to cyclic 'hour of day' and 'day of week'\n",
    "df[[\"hour_sin\",\"hour_cos\",\"day_sin\",\"day_cos\"]] = df[\"date\"].map(get_cyclic_time).apply(pd.Series)\n",
    "\n",
    "#df[[\"hour_num\", \"day_num\"]] = df[\"date\"].map(get_numeric_time).apply(pd.Series)"
   ]
  },
  {
   "cell_type": "code",
   "execution_count": null,
   "metadata": {},
   "outputs": [],
   "source": []
  },
  {
   "cell_type": "code",
   "execution_count": null,
   "metadata": {
    "scrolled": true
   },
   "outputs": [],
   "source": [
    "# get the correlation matrix to see how well each input feature correlates to the output\n",
    "\n",
    "correlation_matrix = df.corr()\n",
    "correlation_matrix[\"Appliances\"].sort_values(ascending=False)"
   ]
  },
  {
   "cell_type": "code",
   "execution_count": null,
   "metadata": {},
   "outputs": [],
   "source": []
  },
  {
   "cell_type": "code",
   "execution_count": null,
   "metadata": {},
   "outputs": [],
   "source": []
  },
  {
   "cell_type": "markdown",
   "metadata": {},
   "source": [
    "# Select features"
   ]
  },
  {
   "cell_type": "code",
   "execution_count": 15,
   "metadata": {},
   "outputs": [],
   "source": [
    "def best_features(df, threshold):\n",
    "    output_feature = \"Appliances\"\n",
    "    #threshold = 0.012\n",
    "\n",
    "    feature_list = []\n",
    "    for feature,correlation in df.corr()[output_feature].iteritems():\n",
    "        if abs(correlation) > threshold and feature != output_feature:\n",
    "            feature_list.append(feature)\n",
    "            \n",
    "    return feature_list"
   ]
  },
  {
   "cell_type": "code",
   "execution_count": null,
   "metadata": {},
   "outputs": [],
   "source": []
  },
  {
   "cell_type": "code",
   "execution_count": 17,
   "metadata": {},
   "outputs": [],
   "source": [
    "feature_list = best_features(train_df, 0.012)"
   ]
  },
  {
   "cell_type": "code",
   "execution_count": null,
   "metadata": {
    "scrolled": true
   },
   "outputs": [],
   "source": []
  },
  {
   "cell_type": "code",
   "execution_count": null,
   "metadata": {},
   "outputs": [],
   "source": [
    "\n"
   ]
  },
  {
   "cell_type": "code",
   "execution_count": null,
   "metadata": {
    "scrolled": true
   },
   "outputs": [],
   "source": [
    "plot_histogram(df, feature_list)"
   ]
  },
  {
   "cell_type": "code",
   "execution_count": null,
   "metadata": {},
   "outputs": [],
   "source": [
    "\n"
   ]
  },
  {
   "cell_type": "code",
   "execution_count": 35,
   "metadata": {},
   "outputs": [],
   "source": [
    "output = train_df[\"Appliances\"]\n",
    "input = train_df[feature_list]"
   ]
  },
  {
   "cell_type": "code",
   "execution_count": null,
   "metadata": {
    "scrolled": true
   },
   "outputs": [],
   "source": []
  },
  {
   "cell_type": "code",
   "execution_count": 25,
   "metadata": {},
   "outputs": [],
   "source": [
    "from sklearn.pipeline import Pipeline\n",
    "from sklearn.pipeline import FeatureUnion\n",
    "from sklearn.preprocessing import StandardScaler"
   ]
  },
  {
   "cell_type": "code",
   "execution_count": null,
   "metadata": {},
   "outputs": [],
   "source": []
  },
  {
   "cell_type": "code",
   "execution_count": null,
   "metadata": {},
   "outputs": [],
   "source": []
  },
  {
   "cell_type": "code",
   "execution_count": null,
   "metadata": {},
   "outputs": [],
   "source": []
  },
  {
   "cell_type": "code",
   "execution_count": null,
   "metadata": {},
   "outputs": [],
   "source": [
    "# simple linear and polynomial prediction models\n",
    "\n",
    "def get_linreg(intercept, normalise):\n",
    "    return LinearRegression(fit_intercept=intercept, normalize=normalise, n_jobs=-1)\n",
    "\n",
    "\n",
    "def linreg_predict(X, y, test_input, intercept=False, normalise=True):\n",
    "    print(\"Get linear regression prediction\")\n",
    "\n",
    "    linreg = get_linreg(intercept, normalise)\n",
    "    linreg.fit(X, y)\n",
    "\n",
    "    return linreg.predict(test_input)\n",
    "\n",
    "\n",
    "def polyreg_predict(X, y, test_input, degrees, intercept=False, normalise=True):\n",
    "    print(\"Get polynomial regression prediction\")\n",
    "\n",
    "    linreg = get_linreg(intercept, normalise)\n",
    "    polyreg = PolynomialFeatures(degree=degrees)\n",
    "\n",
    "    x_hat = polyreg.fit_transform(X)\n",
    "    predict_hat = polyreg.fit_transform(test_input)\n",
    "\n",
    "    linreg.fit(x_hat, y)\n",
    "\n",
    "    return linreg.predict(predict_hat)\n"
   ]
  },
  {
   "cell_type": "code",
   "execution_count": 22,
   "metadata": {},
   "outputs": [],
   "source": [
    "from sklearn.base import BaseEstimator, TransformerMixin\n",
    "\n",
    "class DataFrameSelector(BaseEstimator, TransformerMixin):\n",
    "    def __init__(self, attribute_names):\n",
    "        self.attribute_names = attribute_names\n",
    "        \n",
    "    def fit(self, X, y=None):\n",
    "        return self\n",
    "    def transform(self, X):\n",
    "        return X[self.attribute_names].values"
   ]
  },
  {
   "cell_type": "code",
   "execution_count": 46,
   "metadata": {},
   "outputs": [],
   "source": [
    "data_pipeline = Pipeline([\n",
    "    (\"selection\", DataFrameSelector(feature_list)),\n",
    "    (\"standardisation\", StandardScaler())\n",
    "])\n",
    "\n",
    "lin_pipeline = Pipeline([\n",
    "    (\"data_preparation\", data_pipeline),\n",
    "    (\"linear\", LinearRegression())\n",
    "])\n",
    "\n",
    "poly_pipeline = Pipeline([\n",
    "    (\"data_preparation\", data_pipeline),\n",
    "    (\"poly\", PolynomialFeatures(degree=3)),\n",
    "    (\"linear\", LinearRegression())\n",
    "])"
   ]
  },
  {
   "cell_type": "code",
   "execution_count": 32,
   "metadata": {},
   "outputs": [],
   "source": [
    "train_data = data_pipeline.fit_transform(train_df)"
   ]
  },
  {
   "cell_type": "code",
   "execution_count": null,
   "metadata": {},
   "outputs": [],
   "source": []
  },
  {
   "cell_type": "code",
   "execution_count": 33,
   "metadata": {},
   "outputs": [],
   "source": [
    "from sklearn.model_selection import KFold\n",
    "from sklearn.model_selection import cross_val_score"
   ]
  },
  {
   "cell_type": "code",
   "execution_count": null,
   "metadata": {},
   "outputs": [],
   "source": []
  },
  {
   "cell_type": "code",
   "execution_count": null,
   "metadata": {},
   "outputs": [],
   "source": []
  },
  {
   "cell_type": "code",
   "execution_count": null,
   "metadata": {},
   "outputs": [],
   "source": [
    "def kfold_train(X, y, k):\n",
    "    kfold = KFold(n_splits=k)\n",
    "    "
   ]
  },
  {
   "cell_type": "code",
   "execution_count": 37,
   "metadata": {},
   "outputs": [],
   "source": [
    "kfold = KFold(n_splits=3)"
   ]
  },
  {
   "cell_type": "code",
   "execution_count": 40,
   "metadata": {},
   "outputs": [],
   "source": [
    "poly_result = cross_val_score(poly_pipeline, input, output, cv=kfold, scoring=\"neg_mean_squared_error\")\n",
    "lin_result = cross_val_score(lin_pipeline, input, output, cv=kfold, scoring=\"neg_mean_squared_error\")"
   ]
  },
  {
   "cell_type": "code",
   "execution_count": 41,
   "metadata": {},
   "outputs": [
    {
     "data": {
      "text/plain": [
       "array([ -8179.05202422,  -8542.82893843, -11320.29828191])"
      ]
     },
     "execution_count": 41,
     "metadata": {},
     "output_type": "execute_result"
    }
   ],
   "source": [
    "poly_result"
   ]
  },
  {
   "cell_type": "code",
   "execution_count": 42,
   "metadata": {},
   "outputs": [
    {
     "data": {
      "text/plain": [
       "array([-8042.04929689, -8803.82526671, -9386.27040278])"
      ]
     },
     "execution_count": 42,
     "metadata": {},
     "output_type": "execute_result"
    }
   ],
   "source": [
    "lin_result"
   ]
  },
  {
   "cell_type": "code",
   "execution_count": null,
   "metadata": {},
   "outputs": [],
   "source": [
    "\n",
    "lin_predictions = linreg_predict(input, output, test_input)\n",
    "poly_predictions = polyreg_predict(input, output, test_input, 3)"
   ]
  },
  {
   "cell_type": "code",
   "execution_count": null,
   "metadata": {},
   "outputs": [],
   "source": []
  },
  {
   "cell_type": "code",
   "execution_count": null,
   "metadata": {},
   "outputs": [],
   "source": [
    "mean_squared_error(df.loc[:999, \"Appliances\"], poly_predictions)\n",
    "# 3881 - with time numeric"
   ]
  },
  {
   "cell_type": "code",
   "execution_count": null,
   "metadata": {},
   "outputs": [],
   "source": [
    "mean_squared_error(df.loc[:999, \"Appliances\"], lin_predictions)"
   ]
  },
  {
   "cell_type": "code",
   "execution_count": null,
   "metadata": {},
   "outputs": [],
   "source": []
  },
  {
   "cell_type": "code",
   "execution_count": null,
   "metadata": {},
   "outputs": [],
   "source": []
  },
  {
   "cell_type": "code",
   "execution_count": null,
   "metadata": {},
   "outputs": [],
   "source": []
  }
 ],
 "metadata": {
  "kernelspec": {
   "display_name": "Python 3",
   "language": "python",
   "name": "python3"
  },
  "language_info": {
   "codemirror_mode": {
    "name": "ipython",
    "version": 3
   },
   "file_extension": ".py",
   "mimetype": "text/x-python",
   "name": "python",
   "nbconvert_exporter": "python",
   "pygments_lexer": "ipython3",
   "version": "3.6.4"
  }
 },
 "nbformat": 4,
 "nbformat_minor": 2
}
